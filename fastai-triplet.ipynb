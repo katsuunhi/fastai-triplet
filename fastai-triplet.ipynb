{
 "cells": [
  {
   "cell_type": "code",
   "execution_count": 35,
   "id": "241b4f22",
   "metadata": {},
   "outputs": [],
   "source": [
    "from fastai.vision.all import *\n",
    "from sklearn.manifold import TSNE\n",
    "\n",
    "def label_func(f):\n",
    "    return parent_label(f)\n",
    "\n",
    "\n",
    "class TripletImage(fastuple):\n",
    "    def show(self, loss=None, pred=None, p=None, ctx=None, **kwargs): \n",
    "        if len(self) > 3:\n",
    "                img1,img2,img3,similarity = self\n",
    "        else:\n",
    "            img1,img2,img3 = self\n",
    "            similarity = 'Undetermined'\n",
    "        if not isinstance(img1, Tensor):\n",
    "            if img2.size != img1.size: img2 = img2.resize(img1.size)\n",
    "            if img3.size != img1.size: img3 = img3.resize(img1.size)\n",
    "            t1,t2,t3 = tensor(img1),tensor(img2), tensor(img3)\n",
    "            t1,t2,t3 = t1.permute(2,0,1),t2.permute(2,0,1),t3.permute(2,0,1)\n",
    "        else: t1,t2,t3 = img1,img2,img3\n",
    "        line = t1.new_zeros(t1.shape[0], t1.shape[1], 10)\n",
    "        if loss == None:\n",
    "            return show_image(torch.cat([t2,line,t1,line,t3], dim=2), title=similarity, ctx=ctx, **kwargs)\n",
    "        elif pred == None:\n",
    "            return show_image(torch.cat([t2,line,t1,line,t3], dim=2), title=f\"{loss:.2f}\", ctx=ctx, **kwargs)\n",
    "        return show_image(torch.cat([t2,line,t1,line,t3], dim=2), title=f\"{pred}/{similarity} {loss:.2f} / {p:.2f}\", ctx=ctx, **kwargs)\n",
    "\n",
    "    \n",
    "    \n",
    "class TripletTransform(Transform):\n",
    "    def __init__(self, files, splits):\n",
    "        self.splbl2files = [{l: [f for f in files[splits[i]] if label_func(f) == l] for l in labels}\n",
    "                          for i in range(2)]\n",
    "        self.valid = {f: self._draw(f,1) for f in files[splits[1]]}\n",
    "    def encodes(self, f):\n",
    "        f2,f3,cls = self.valid.get(f, self._draw(f,0))\n",
    "        img1,img2,img3 = PILImage.create(f),PILImage.create(f2),PILImage.create(f3)\n",
    "        return TripletImage(img1, img2, img3, int(cls))\n",
    "    \n",
    "    def _draw(self, f, split=0):\n",
    "        cls1 = label_func(f)\n",
    "        cls2 = random.choice(L(l for l in labels if l != cls1))\n",
    "        while len(self.splbl2files[split][cls2]) == 0: \n",
    "            cls2 = random.choice(L(l for l in labels if l != cls1))\n",
    "        return random.choice(self.splbl2files[split][cls1]),random.choice(self.splbl2files[split][cls2]),cls1\n",
    "        \n",
    "\n",
    "class TripletModel(Module):\n",
    "    def __init__(self, encoder):\n",
    "        self.encoder = encoder\n",
    "        self.attention = shufaAttention()\n",
    "    \n",
    "    def forward(self, x1, x2, x3):\n",
    "        # anchor positive negative\n",
    "        ftrs1 = nn.Flatten()(self.encoder(x1))\n",
    "        ftrs2 = nn.Flatten()(self.encoder(x2))\n",
    "        ftrs3 = nn.Flatten()(self.encoder(x3))\n",
    "        return ftrs1, ftrs2, ftrs3\n",
    "    def forward_one(self, x):\n",
    "        return nn.Flatten()(self.encoder(x))\n",
    "    \n",
    "@typedispatch\n",
    "def show_batch(x:TripletImage, y, samples, ctxs=None, max_n=6, nrows=None, ncols=2, figsize=None, **kwargs):\n",
    "    if figsize is None: figsize = (ncols*6, max_n//ncols * 3)\n",
    "    if ctxs is None: ctxs = get_grid(min(x[0].shape[0], max_n), nrows=None, ncols=ncols, figsize=figsize)\n",
    "    for i,ctx in enumerate(ctxs): TripletImage(x[0][i], x[1][i], x[2][i], x[3][i].item()).show(ctx=ctx)\n",
    "    \n",
    "def siamese_splitter(model):\n",
    "    return [params(model.encoder), params(model.head)]\n",
    "\n",
    "def triplet_top_losses(learn, preds=None, max_n=10, n_cols=2):\n",
    "    if preds == None:\n",
    "        preds = learn.get_preds(with_loss=True, with_input=True)\n",
    "    ctxs = get_grid(max_n, nrows=None, ncols=n_cols, figsize=(n_cols*6, max_n//n_cols * 3), title='Triplet Loss')\n",
    "    dl = learn.dls.valid.enumerate()\n",
    "    topk = preds[-1].topk(max_n)\n",
    "    start = time.time()\n",
    "    for i, ctx in enumerate(ctxs):\n",
    "        idx = topk[-1][i].item()\n",
    "        loss = topk[0][i].item()\n",
    "        dl[idx][1].show(loss=loss, ctx=ctx)"
   ]
  },
  {
   "cell_type": "code",
   "execution_count": 36,
   "id": "0f87356e",
   "metadata": {},
   "outputs": [],
   "source": [
    "class _Loss(Module):\n",
    "    reduction: str\n",
    "    def __init__(self, size_average=None, reduce=None, reduction: str = 'mean') -> None:\n",
    "        super(_Loss, self).__init__()\n",
    "        if size_average is not None or reduce is not None:\n",
    "            self.reduction: str = _Reduction.legacy_get_string(size_average, reduce)\n",
    "        else:\n",
    "            self.reduction = reduction\n",
    "\n",
    "\n",
    "class triplet_loss_func(_Loss):\n",
    "    __constants__ = ['margin', 'p', 'eps', 'swap', 'reduction']\n",
    "    margin: float\n",
    "    p: float\n",
    "    eps: float\n",
    "    swap: bool\n",
    "\n",
    "    def __init__(self, margin: float = 1.0, p: float = 2., eps: float = 1e-6, swap: bool = False, size_average=None,\n",
    "                 reduce=None, reduction: str = 'mean'):\n",
    "        super(triplet_loss_func, self).__init__(size_average, reduce, reduction)\n",
    "        self.margin = margin\n",
    "        self.p = p\n",
    "        self.eps = eps\n",
    "        self.swap = swap\n",
    "    def forward(self, x, *args):\n",
    "        anchor, positive, negative = x[0], x[1], x[2]\n",
    "        \n",
    "        return F.triplet_margin_loss(anchor, positive, negative, margin=self.margin, p=self.p,\n",
    "                                     eps=self.eps, swap=self.swap, reduction=self.reduction)"
   ]
  },
  {
   "cell_type": "code",
   "execution_count": 37,
   "id": "9ecec624",
   "metadata": {},
   "outputs": [],
   "source": [
    "path = '/home/username/.fastai/data/mnist_png/'\n",
    "files = get_image_files(path)\n",
    "labels = list(set(files.map(label_func)))\n",
    "splits = RandomSplitter(seed=1)(files)"
   ]
  },
  {
   "cell_type": "code",
   "execution_count": 38,
   "id": "49be52f5",
   "metadata": {
    "scrolled": true
   },
   "outputs": [],
   "source": [
    "tfm = TripletTransform(files, splits)\n",
    "valids = [v[0] for k,v in tfm.valid.items()]"
   ]
  },
  {
   "cell_type": "code",
   "execution_count": 39,
   "id": "ff778208",
   "metadata": {},
   "outputs": [
    {
     "data": {
      "text/plain": [
       "<fastai.data.core.DataLoaders at 0x7efb84cc4850>"
      ]
     },
     "execution_count": 39,
     "metadata": {},
     "output_type": "execute_result"
    }
   ],
   "source": [
    "tls = TfmdLists(files, tfm, splits=splits)\n",
    "dls = tls.dataloaders(after_item=[Resize(105, method='squish'), ToTensor], after_batch=[IntToFloatTensor, Normalize.from_stats(*imagenet_stats)])\n",
    "dls.cuda()"
   ]
  },
  {
   "cell_type": "code",
   "execution_count": null,
   "id": "9d23a1b1",
   "metadata": {
    "scrolled": true
   },
   "outputs": [],
   "source": [
    "dls.show_batch()"
   ]
  },
  {
   "cell_type": "code",
   "execution_count": 41,
   "id": "aff2600a",
   "metadata": {
    "scrolled": true
   },
   "outputs": [],
   "source": [
    "encoder = create_body(vgg16_bn, cut=-2)\n",
    "model = TripletModel(encoder)"
   ]
  },
  {
   "cell_type": "code",
   "execution_count": 42,
   "id": "80e94056",
   "metadata": {},
   "outputs": [],
   "source": [
    "earlyStopping = EarlyStoppingCallback(patience=5)\n",
    "learn = Learner(dls, model, loss_func=triplet_loss_func(margin=100), cbs=[ShowGraphCallback, SaveModelCallback, earlyStopping])"
   ]
  },
  {
   "cell_type": "code",
   "execution_count": null,
   "id": "b8e25d05",
   "metadata": {},
   "outputs": [],
   "source": [
    "\n",
    "learn.fit_one_cycle(100)"
   ]
  },
  {
   "cell_type": "code",
   "execution_count": null,
   "id": "9300897d",
   "metadata": {
    "scrolled": true
   },
   "outputs": [],
   "source": [
    "triplet_top_losses(learn, preds=preds)"
   ]
  },
  {
   "cell_type": "code",
   "execution_count": 46,
   "id": "36f3b565",
   "metadata": {},
   "outputs": [],
   "source": [
    "hooks = Hooks(model.encoder, lambda m,i,o: o)"
   ]
  },
  {
   "cell_type": "code",
   "execution_count": 47,
   "id": "fe2ee557",
   "metadata": {},
   "outputs": [],
   "source": [
    "ftrs = tensor([]).cuda()\n",
    "for i in learn.dls.valid:\n",
    "#     print(i)\n",
    "#     i.show()\n",
    "    learn.model(i[0], i[1], i[2])\n",
    "    ftrs = torch.cat((ftrs, nn.Flatten()(hooks.stored[-1])))"
   ]
  },
  {
   "cell_type": "code",
   "execution_count": 48,
   "id": "72885e4e",
   "metadata": {},
   "outputs": [],
   "source": [
    "tsne = TSNE(n_components=2)"
   ]
  },
  {
   "cell_type": "code",
   "execution_count": null,
   "id": "517b2da7",
   "metadata": {},
   "outputs": [],
   "source": [
    "output = tsne.fit_transform(ftrs.cpu().detach().numpy())\n",
    "for i in range(len(output)):\n",
    "    plt.plot(output[i, 0], output[i, 1], '.', color='red')"
   ]
  },
  {
   "cell_type": "code",
   "execution_count": null,
   "id": "3fa7c25b",
   "metadata": {},
   "outputs": [],
   "source": []
  }
 ],
 "metadata": {
  "kernelspec": {
   "display_name": "Python 3 (ipykernel)",
   "language": "python",
   "name": "python3"
  },
  "language_info": {
   "codemirror_mode": {
    "name": "ipython",
    "version": 3
   },
   "file_extension": ".py",
   "mimetype": "text/x-python",
   "name": "python",
   "nbconvert_exporter": "python",
   "pygments_lexer": "ipython3",
   "version": "3.8.3"
  }
 },
 "nbformat": 4,
 "nbformat_minor": 5
}
